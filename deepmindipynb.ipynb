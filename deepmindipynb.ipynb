{
  "nbformat": 4,
  "nbformat_minor": 0,
  "metadata": {
    "colab": {
      "name": "deepmindipynb",
      "provenance": [],
      "authorship_tag": "ABX9TyPkliNsWIPPX+2ne+b5giWw",
      "include_colab_link": true
    },
    "kernelspec": {
      "name": "python3",
      "display_name": "Python 3"
    },
    "language_info": {
      "name": "python"
    }
  },
  "cells": [
    {
      "cell_type": "markdown",
      "metadata": {
        "id": "view-in-github",
        "colab_type": "text"
      },
      "source": [
        "<a href=\"https://colab.research.google.com/github/OluwajobaOluwabori/Deepmind-task/blob/main/deepmindipynb.ipynb\" target=\"_parent\"><img src=\"https://colab.research.google.com/assets/colab-badge.svg\" alt=\"Open In Colab\"/></a>"
      ]
    },
    {
      "cell_type": "code",
      "metadata": {
        "colab": {
          "base_uri": "https://localhost:8080/"
        },
        "id": "mG7SnkibrLry",
        "outputId": "591bd6a4-e45e-46da-894a-3879aab9d537"
      },
      "source": [
        "def collect_input():\n",
        "    length_of_line = int(input('Enter length of line: '))\n",
        "    K=int(input('Enter number of particles: '))\n",
        "    list1=[] # holds particle positions that are less than the midpoint of the line length\n",
        "    list2=[] # holds particle positions that are greater than or equal to the midpoint of the line length\n",
        "    midpoint=length_of_line // 2\n",
        "    for i in range(K):\n",
        "        particle_location = int(input(f'Enter position of particle {int(i)+1}: '))\n",
        "        if particle_location < midpoint:\n",
        "            list1.append(particle_location)  \n",
        "        else:\n",
        "            list2.append(particle_location)\n",
        "    \n",
        "    return {'list1': list1, 'list2': list2, 'length': length_of_line}\n",
        "\n",
        "\n",
        "\"\"\"\n",
        "   Function: earliest_time computes the earliest time it takes for all the particles to fall off the line\n",
        "    @Input:\n",
        "        list1: holds particle positions that are less than the midpoint of lengthOfLine\n",
        "        list2: holds particle positions that are greater than or equal to the midpoint of the line's length\n",
        "        lengthOfLine: an integer representing the length of the 1D line\n",
        "    @Output:\n",
        "        an integer representing the earliest time (in seconds) for all particles to fall of the 1D line\n",
        "\"\"\"\n",
        "def earliest_time(list1, list2, length):\n",
        "    x = max(list1)\n",
        "    y = length - min(list2)\n",
        "    return max(x,y)\n",
        "\n",
        "\"\"\"\n",
        "    Function: latest_time computes the latest time it takes for all the particles to fall off the line\n",
        "    @Input:\n",
        "        list1: holds particle positions that are less than the midpoint of lengthOfLine\n",
        "        list2: holds particle positions that are greater than or equal to the midpoint of the line's length\n",
        "        lenght_of_line: an integer representing the length of the 1D line\n",
        "    @Output:\n",
        "        an integer representing the latest time (in seconds) for all particles to fall of the 1D line\n",
        "\"\"\"\n",
        "def latest_time(list1, list2, length):\n",
        "\tx = length - min(list1)   \n",
        "\ty = max(list2)\n",
        "\treturn max(x,y)\n",
        "\n",
        "if __name__ == '__main__':\n",
        "    input_data = collect_input()\n",
        "    print(earliest_time(input_data['list1'], input_data['list2'], input_data['length']))\n",
        "    print(latest_time(input_data['list1'], input_data['list2'], input_data['length']))\n",
        "    "
      ],
      "execution_count": 3,
      "outputs": [
        {
          "output_type": "stream",
          "text": [
            "Enter length of line: 214\n",
            "Enter number of particles: 7\n",
            "Enter position of particle 1: 11\n",
            "Enter position of particle 2: 12\n",
            "Enter position of particle 3: 13\n",
            "Enter position of particle 4: 23\n",
            "Enter position of particle 5: 7\n",
            "Enter position of particle 6: 191\n",
            "Enter position of particle 7: 176\n",
            "38\n",
            "207\n"
          ],
          "name": "stdout"
        }
      ]
    }
  ]
}